{
 "cells": [
  {
   "cell_type": "markdown",
   "id": "18b6af56",
   "metadata": {},
   "source": [
    "# Counting DNA Nucleotides"
   ]
  },
  {
   "cell_type": "markdown",
   "id": "dfe74f4f",
   "metadata": {},
   "source": [
    "<!-- Given: A DNA string s of length at most 1000 nt.\n",
    "\n",
    "Return: Four integers (separated by spaces) counting the respective number of times that the symbols 'A', 'C', 'G', and 'T' occur in s. -->"
   ]
  },
  {
   "cell_type": "code",
   "execution_count": null,
   "id": "b03f727c",
   "metadata": {},
   "outputs": [],
   "source": [
    "with open(r'C:\\Users\\david\\Downloads\\rosalind_dna.txt', 'r') as myfile:\n",
    "    dna = myfile.read()"
   ]
  },
  {
   "cell_type": "code",
   "execution_count": null,
   "id": "46a77951",
   "metadata": {},
   "outputs": [],
   "source": [
    "print ( dna.count('A'), dna.count('C'), dna.count('G'), dna.count('T') )"
   ]
  },
  {
   "cell_type": "markdown",
   "id": "faa73b82",
   "metadata": {},
   "source": [
    "# Converting DNA to RNA"
   ]
  },
  {
   "cell_type": "markdown",
   "id": "633703cb",
   "metadata": {},
   "source": [
    "<!-- Given a DNA string t corresponding to a coding strand, \n",
    "its transcribed RNA string u is formed by replacing all \n",
    "occurrences of 'T' in t with 'U' in u.\n",
    "\n",
    "Given: A DNA string t having length at most 1000 nt.\n",
    "\n",
    "Return: The transcribed RNA string of t. -->"
   ]
  },
  {
   "cell_type": "code",
   "execution_count": null,
   "id": "bfd4d400",
   "metadata": {},
   "outputs": [],
   "source": [
    "rna = dna.replace(\"T\", \"U\")"
   ]
  },
  {
   "cell_type": "markdown",
   "id": "8b7e20b4",
   "metadata": {},
   "source": [
    "# Complementing a Strand of DNA"
   ]
  },
  {
   "cell_type": "markdown",
   "id": "770a9e8f",
   "metadata": {},
   "source": [
    "<!-- In DNA strings, symbols 'A' and 'T' are complements of each other, as are 'C' and 'G'.\n",
    "\n",
    "The reverse complement of a DNA string s is the string sc formed by reversing the symbols of s, then taking the complement of each symbol (e.g., the reverse complement of \"GTCA\" is \"TGAC\").\n",
    "\n",
    "Given: A DNA string s of length at most 1000 bp.\n",
    "\n",
    "Return: The reverse complement sc of s. -->"
   ]
  }
 ],
 "metadata": {
  "kernelspec": {
   "display_name": "Python 3",
   "language": "python",
   "name": "python3"
  },
  "language_info": {
   "codemirror_mode": {
    "name": "ipython",
    "version": 3
   },
   "file_extension": ".py",
   "mimetype": "text/x-python",
   "name": "python",
   "nbconvert_exporter": "python",
   "pygments_lexer": "ipython3",
   "version": "3.8.8"
  }
 },
 "nbformat": 4,
 "nbformat_minor": 5
}
