{
 "cells": [
  {
   "cell_type": "markdown",
   "id": "0a5a92b8",
   "metadata": {},
   "source": [
    "<!-- Rabbits and Recurrence Relations -->"
   ]
  },
  {
   "cell_type": "markdown",
   "id": "816f3b28",
   "metadata": {},
   "source": [
    "<!-- Given: Positive integers n≤40n≤40n \\leq 40 and k≤5k≤5k \\leq 5.\n",
    "Return: The total number of rabbit pairs that will be present after nnn months, if we begin with 1 pair and in each generation,\n",
    "every pair of reproduction-age rabbits produces a litter of kkk rabbit pairs (instead of only 1 pair). -->"
   ]
  },
  {
   "cell_type": "code",
   "execution_count": null,
   "id": "7738759c",
   "metadata": {},
   "outputs": [],
   "source": [
    "def wabbits(n, k):\n",
    "    if n == 0:\n",
    "        return 0\n",
    "    elif n == 1:\n",
    "        return 1\n",
    "      #                          we multiply the number of rabbits\n",
    "    else:\n",
    "        return wabbits(n-1, k) + k*wabbits(n-2, k)\n",
    "print( wabbits(5,3))"
   ]
  }
 ],
 "metadata": {
  "kernelspec": {
   "display_name": "Python 3",
   "language": "python",
   "name": "python3"
  },
  "language_info": {
   "codemirror_mode": {
    "name": "ipython",
    "version": 3
   },
   "file_extension": ".py",
   "mimetype": "text/x-python",
   "name": "python",
   "nbconvert_exporter": "python",
   "pygments_lexer": "ipython3",
   "version": "3.8.8"
  }
 },
 "nbformat": 4,
 "nbformat_minor": 5
}
