{
 "cells": [
  {
   "cell_type": "markdown",
   "id": "1d049b89",
   "metadata": {},
   "source": [
    "# Counting Point Mutations"
   ]
  },
  {
   "cell_type": "markdown",
   "id": "c4cfef11",
   "metadata": {},
   "source": [
    "<!-- Given two strings s and t of equal length, the Hamming distance between s and t, denoted dH(s,t), is the number of corresponding symbols that differ in s and t. See Figure 2.\n",
    "\n",
    "Given: Two DNA strings s and t of equal length (not exceeding 1 kbp).\n",
    "\n",
    "Return: The Hamming distance dH(s,t). -->"
   ]
  },
  {
   "cell_type": "code",
   "execution_count": 10,
   "id": "cbf7bd56",
   "metadata": {},
   "outputs": [],
   "source": [
    "import pandas as pd"
   ]
  },
  {
   "cell_type": "code",
   "execution_count": 22,
   "id": "0bb049c6",
   "metadata": {},
   "outputs": [],
   "source": [
    "dna = 'TTTCAACCTCAATTATAGACCCGGAAATACACGATAGCATATGTTTGTCTAGTACTCAGGTCAAGGCTATTGAATCTCCAGGGCAGGACTGTCCAATAGCTATAACGTTGATGGCTCTAAGCCACTCCGTGGTCGTCGCCATCACGTGCGTCTGCACGCAAGTTCGGCAATCGCGCACACGGACATCGAGGGCCTATCCTCTGGCCAGCTATAGAAGTGCGAGGTGCATGGGCCAAGCTTCCTTATCAGCCCTGAGCGAGTGGCGTGGTACTCTCAGGTTCCTGCGCCAACTGGGTTCGTACGCACTGAGATGCGCGTCAACTCACAGAGTTGTCATATAAGTTAATATAGAACAACAGACCGGCGGGCGAATCACTGCTCCCGGGTTGTTAACAAATTGGGGGTTAATATGGCATATTTCTTCATTATTAAGCTTAGATTGCCGTTACCGCCTCGGCCATATGATGGGAGCAATTTAAGGTTGTGCTTCGAATCCGTAGAGCAGGAGAAAGATCTAGCGCGCGATTGATATTCCGCATCAGATGTTTCCCACGGGGAAGCTAATCCAATTCTTTTACGATGATAGCACACAGCCGTACTCAACAAGGCCCAGTAATCTTGCGAGCAGCAGCGCCGGATGATATCAGTAATCCCCGGGAGGCTGTACTGTACATATCATAGTGTTCGTTGCATTACCGACAGTCGAGGGGACCTATTTCTGAGCTCATCGGTACGCGGGTACTTGGTCGATTTCACTCACTCCGCGGAGTATCGTTCGCATGATGGCTCAACTCTACCAGTATATTCAGGGGGTGAGCACACCCGAACTCCAA'"
   ]
  },
  {
   "cell_type": "code",
   "execution_count": 24,
   "id": "f7bf41d7",
   "metadata": {},
   "outputs": [],
   "source": [
    "dnaS = dna[0:10] \n",
    "dnaT = dna[-10:] "
   ]
  },
  {
   "cell_type": "code",
   "execution_count": 25,
   "id": "25fc2ba5",
   "metadata": {},
   "outputs": [
    {
     "name": "stdout",
     "output_type": "stream",
     "text": [
      "2\n"
     ]
    }
   ],
   "source": [
    "l = []\n",
    "for i in range(0, len(dnaS) ):\n",
    "    if dnaS[i] == dnaT[i]:\n",
    "        l.append(i)\n",
    "print( len(l) ) "
   ]
  },
  {
   "cell_type": "code",
   "execution_count": null,
   "id": "0fe728f4",
   "metadata": {},
   "outputs": [],
   "source": []
  }
 ],
 "metadata": {
  "kernelspec": {
   "display_name": "Python 3",
   "language": "python",
   "name": "python3"
  },
  "language_info": {
   "codemirror_mode": {
    "name": "ipython",
    "version": 3
   },
   "file_extension": ".py",
   "mimetype": "text/x-python",
   "name": "python",
   "nbconvert_exporter": "python",
   "pygments_lexer": "ipython3",
   "version": "3.8.8"
  }
 },
 "nbformat": 4,
 "nbformat_minor": 5
}
